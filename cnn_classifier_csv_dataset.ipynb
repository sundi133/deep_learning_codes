{
 "cells": [
  {
   "cell_type": "code",
   "execution_count": 1,
   "metadata": {},
   "outputs": [
    {
     "name": "stderr",
     "output_type": "stream",
     "text": [
      "Using TensorFlow backend.\n"
     ]
    }
   ],
   "source": [
    "\n",
    "import numpy as np # linear algebra\n",
    "import pandas as pd # data processing, CSV file I/O (e.g. pd.read_csv)\n",
    "from keras.models import Sequential\n",
    "from keras.layers import Dense\n",
    "from keras.layers import Dropout\n",
    "from keras.layers import Flatten\n",
    "from keras.layers.convolutional import Convolution2D\n",
    "from keras.layers.convolutional import MaxPooling2D\n",
    "from sklearn.preprocessing import LabelEncoder,OneHotEncoder\n",
    "from keras import backend as K"
   ]
  },
  {
   "cell_type": "code",
   "execution_count": 2,
   "metadata": {},
   "outputs": [],
   "source": [
    "from sklearn.model_selection import train_test_split\n",
    "\n",
    "train = pd.read_csv(\"/Users/j0s023m/Downloads/model_data_for_Sundi.csv\").values\n",
    "\n",
    "X=train[:,:-1]\n",
    "y=train[:,-1]\n",
    "\n",
    "X_train_df, X_test, y_train_df, y_test = train_test_split(X, y, random_state=42, stratify=y,  test_size = 0.2)\n"
   ]
  },
  {
   "cell_type": "code",
   "execution_count": 74,
   "metadata": {},
   "outputs": [],
   "source": [
    "#X_train_df[:, 1:].reshape(X_train_df.shape[0],1,28, 28).astype( 'float32' )\n",
    "#out = X_train_df.reshape((-1,1,119,1))\n"
   ]
  },
  {
   "cell_type": "code",
   "execution_count": 3,
   "metadata": {},
   "outputs": [],
   "source": [
    "X_train_df = X_train_df.reshape((-1,1,119,1)).astype( 'float32' )\n",
    "\n",
    "X_test = X_test.reshape((-1,1,119,1)).astype( 'float32' )\n",
    "\n"
   ]
  },
  {
   "cell_type": "code",
   "execution_count": 4,
   "metadata": {},
   "outputs": [],
   "source": [
    "from keras.utils import to_categorical\n",
    "\n",
    "y_train_df_rs = to_categorical(y_train_df)\n",
    "y_test_rs = to_categorical(y_test)\n"
   ]
  },
  {
   "cell_type": "code",
   "execution_count": 22,
   "metadata": {
    "scrolled": true
   },
   "outputs": [
    {
     "name": "stderr",
     "output_type": "stream",
     "text": [
      "/Users/j0s023m/Desktop/handson-deep_q_learning_stock_trading/y37/lib/python3.7/site-packages/ipykernel_launcher.py:5: UserWarning: Update your `Conv2D` call to the Keras 2 API: `Conv2D(30, (1, 1), input_shape=(1, 119, 1..., activation=\"relu\", padding=\"valid\")`\n",
      "  \"\"\"\n",
      "/Users/j0s023m/Desktop/handson-deep_q_learning_stock_trading/y37/lib/python3.7/site-packages/ipykernel_launcher.py:7: UserWarning: Update your `Conv2D` call to the Keras 2 API: `Conv2D(15, (1, 1), activation=\"relu\")`\n",
      "  import sys\n"
     ]
    }
   ],
   "source": [
    "from keras.optimizers import Adam\n",
    "\n",
    "model = Sequential()\n",
    "#K.set_image_dim_ordering('th')\n",
    "model.add(Convolution2D(30, 1, 1, border_mode= 'valid' , input_shape=(1, 119,1),activation= 'relu' ))\n",
    "model.add(MaxPooling2D(pool_size=(1, 1)))\n",
    "model.add(Convolution2D(15, 1, 1, activation= 'relu' ))\n",
    "model.add(MaxPooling2D(pool_size=(1, 1)))\n",
    "model.add(Dropout(0.1))\n",
    "model.add(Flatten())\n",
    "model.add(Dense(64, activation= 'relu' ))\n",
    "model.add(Dense(32, activation= 'relu' ))\n",
    "model.add(Dense(3, activation= 'softmax' ))\n",
    "  # Compile model\n",
    "model.compile(loss= 'categorical_crossentropy' , optimizer=Adam(lr=0.005) , metrics=[ 'accuracy' ])"
   ]
  },
  {
   "cell_type": "code",
   "execution_count": 23,
   "metadata": {},
   "outputs": [
    {
     "name": "stdout",
     "output_type": "stream",
     "text": [
      "Epoch 1/32\n",
      "1299/1299 [==============================] - 3s 2ms/step - loss: 1.3122 - acc: 0.4488\n",
      "Epoch 2/32\n",
      "1299/1299 [==============================] - 1s 1ms/step - loss: 0.9155 - acc: 0.5435\n",
      "Epoch 3/32\n",
      "1299/1299 [==============================] - 1s 1ms/step - loss: 0.8729 - acc: 0.5766\n",
      "Epoch 4/32\n",
      "1299/1299 [==============================] - 1s 1ms/step - loss: 0.8637 - acc: 0.5812\n",
      "Epoch 5/32\n",
      "1299/1299 [==============================] - 1s 1ms/step - loss: 0.8425 - acc: 0.5828\n",
      "Epoch 6/32\n",
      "1299/1299 [==============================] - 1s 1ms/step - loss: 0.8243 - acc: 0.6135\n",
      "Epoch 7/32\n",
      "1299/1299 [==============================] - 1s 1ms/step - loss: 0.8048 - acc: 0.6228\n",
      "Epoch 8/32\n",
      "1299/1299 [==============================] - 1s 1ms/step - loss: 0.8024 - acc: 0.6174\n",
      "Epoch 9/32\n",
      "1299/1299 [==============================] - 1s 1ms/step - loss: 0.8201 - acc: 0.5912\n",
      "Epoch 10/32\n",
      "1299/1299 [==============================] - 1s 1ms/step - loss: 0.7832 - acc: 0.6451\n",
      "Epoch 11/32\n",
      "1299/1299 [==============================] - 1s 1ms/step - loss: 0.7866 - acc: 0.6289\n",
      "Epoch 12/32\n",
      "1299/1299 [==============================] - 1s 1ms/step - loss: 0.7911 - acc: 0.6343\n",
      "Epoch 13/32\n",
      "1299/1299 [==============================] - 1s 1ms/step - loss: 0.7976 - acc: 0.6243\n",
      "Epoch 14/32\n",
      "1299/1299 [==============================] - 1s 1ms/step - loss: 0.7841 - acc: 0.6320\n",
      "Epoch 15/32\n",
      "1299/1299 [==============================] - 2s 1ms/step - loss: 0.7629 - acc: 0.6567\n",
      "Epoch 16/32\n",
      "1299/1299 [==============================] - 2s 1ms/step - loss: 0.7676 - acc: 0.6297\n",
      "Epoch 17/32\n",
      "1299/1299 [==============================] - 2s 1ms/step - loss: 0.7528 - acc: 0.6436\n",
      "Epoch 18/32\n",
      "1299/1299 [==============================] - 1s 1ms/step - loss: 0.7541 - acc: 0.6636\n",
      "Epoch 19/32\n",
      "1299/1299 [==============================] - 1s 1ms/step - loss: 0.7713 - acc: 0.6413\n",
      "Epoch 20/32\n",
      "1299/1299 [==============================] - 1s 1ms/step - loss: 0.7659 - acc: 0.6497\n",
      "Epoch 21/32\n",
      "1299/1299 [==============================] - 1s 1ms/step - loss: 0.7624 - acc: 0.6474\n",
      "Epoch 22/32\n",
      "1299/1299 [==============================] - 1s 1ms/step - loss: 0.7584 - acc: 0.6605\n",
      "Epoch 23/32\n",
      "1299/1299 [==============================] - 1s 1ms/step - loss: 0.7654 - acc: 0.6536\n",
      "Epoch 24/32\n",
      "1299/1299 [==============================] - 1s 1ms/step - loss: 0.7578 - acc: 0.6413\n",
      "Epoch 25/32\n",
      "1299/1299 [==============================] - 1s 1ms/step - loss: 0.7462 - acc: 0.6397\n",
      "Epoch 26/32\n",
      "1299/1299 [==============================] - 1s 1ms/step - loss: 0.7392 - acc: 0.6682\n",
      "Epoch 27/32\n",
      "1299/1299 [==============================] - 1s 1ms/step - loss: 0.7371 - acc: 0.6520\n",
      "Epoch 28/32\n",
      "1299/1299 [==============================] - 1s 1ms/step - loss: 0.7482 - acc: 0.6451\n",
      "Epoch 29/32\n",
      "1299/1299 [==============================] - 1s 1ms/step - loss: 0.7510 - acc: 0.6259\n",
      "Epoch 30/32\n",
      "1299/1299 [==============================] - 1s 1ms/step - loss: 0.7512 - acc: 0.6366\n",
      "Epoch 31/32\n",
      "1299/1299 [==============================] - 1s 1ms/step - loss: 0.7200 - acc: 0.6728\n",
      "Epoch 32/32\n",
      "1299/1299 [==============================] - 1s 1ms/step - loss: 0.7174 - acc: 0.6697\n"
     ]
    },
    {
     "data": {
      "text/plain": [
       "<keras.callbacks.History at 0x1a94a00950>"
      ]
     },
     "execution_count": 23,
     "metadata": {},
     "output_type": "execute_result"
    }
   ],
   "source": [
    "model.fit(X_train_df, y_train_df_rs,\n",
    "          epochs=32,\n",
    "          batch_size= 160,\n",
    "          verbose=1)\n"
   ]
  },
  {
   "cell_type": "code",
   "execution_count": 24,
   "metadata": {},
   "outputs": [
    {
     "name": "stdout",
     "output_type": "stream",
     "text": [
      "325/325 [==============================] - 0s 1ms/step\n"
     ]
    },
    {
     "data": {
      "text/plain": [
       "[0.8163301583436819, 0.6523076965258672]"
      ]
     },
     "execution_count": 24,
     "metadata": {},
     "output_type": "execute_result"
    }
   ],
   "source": [
    "score = model.evaluate(X_test, y_test_rs, batch_size=128)\n",
    "score"
   ]
  },
  {
   "cell_type": "code",
   "execution_count": 25,
   "metadata": {},
   "outputs": [],
   "source": [
    "predictions = model.predict_classes(X_test, batch_size=128)\n"
   ]
  },
  {
   "cell_type": "code",
   "execution_count": 26,
   "metadata": {},
   "outputs": [
    {
     "name": "stdout",
     "output_type": "stream",
     "text": [
      "[[102  29   8]\n",
      " [ 47 106  22]\n",
      " [  3   4   4]]\n",
      "--------- accuracy ------------\n",
      "0.6523076923076923 325\n"
     ]
    }
   ],
   "source": [
    "#predictions\n",
    "#y_test\n",
    "from sklearn.metrics import confusion_matrix\n",
    "cnm = confusion_matrix(predictions, y_test)\n",
    "print(cnm)\n",
    "\n",
    "from sklearn.metrics import accuracy_score\n",
    "accuracy = accuracy_score(predictions, y_test)\n",
    "accuracy_count = accuracy_score(predictions, predictions, normalize = False) ###3 number of correctly classified \n",
    "print(\"--------- accuracy ------------\")\n",
    "print(accuracy , accuracy_count)"
   ]
  },
  {
   "cell_type": "code",
   "execution_count": 27,
   "metadata": {},
   "outputs": [
    {
     "data": {
      "text/plain": [
       "[0.8163301583436819, 0.6523076965258672]"
      ]
     },
     "execution_count": 27,
     "metadata": {},
     "output_type": "execute_result"
    }
   ],
   "source": [
    "score"
   ]
  },
  {
   "cell_type": "code",
   "execution_count": 38,
   "metadata": {},
   "outputs": [
    {
     "name": "stdout",
     "output_type": "stream",
     "text": [
      "_________________________________________________________________\n",
      "Layer (type)                 Output Shape              Param #   \n",
      "=================================================================\n",
      "conv2d_9 (Conv2D)            (None, 1, 119, 30)        60        \n",
      "_________________________________________________________________\n",
      "max_pooling2d_9 (MaxPooling2 (None, 1, 119, 30)        0         \n",
      "_________________________________________________________________\n",
      "conv2d_10 (Conv2D)           (None, 1, 119, 15)        465       \n",
      "_________________________________________________________________\n",
      "max_pooling2d_10 (MaxPooling (None, 1, 119, 15)        0         \n",
      "_________________________________________________________________\n",
      "dropout_5 (Dropout)          (None, 1, 119, 15)        0         \n",
      "_________________________________________________________________\n",
      "flatten_5 (Flatten)          (None, 1785)              0         \n",
      "_________________________________________________________________\n",
      "dense_15 (Dense)             (None, 64)                114304    \n",
      "_________________________________________________________________\n",
      "dense_16 (Dense)             (None, 32)                2080      \n",
      "_________________________________________________________________\n",
      "dense_17 (Dense)             (None, 3)                 99        \n",
      "=================================================================\n",
      "Total params: 117,008\n",
      "Trainable params: 117,008\n",
      "Non-trainable params: 0\n",
      "_________________________________________________________________\n"
     ]
    }
   ],
   "source": [
    "model.summary()\n"
   ]
  },
  {
   "cell_type": "code",
   "execution_count": 37,
   "metadata": {},
   "outputs": [
    {
     "ename": "AttributeError",
     "evalue": "'function' object has no attribute 'get_session'",
     "output_type": "error",
     "traceback": [
      "\u001b[0;31m---------------------------------------------------------------------------\u001b[0m",
      "\u001b[0;31mAttributeError\u001b[0m                            Traceback (most recent call last)",
      "\u001b[0;32m<ipython-input-37-becb6fe2d387>\u001b[0m in \u001b[0;36m<module>\u001b[0;34m\u001b[0m\n\u001b[1;32m      2\u001b[0m \u001b[0;34m\u001b[0m\u001b[0m\n\u001b[1;32m      3\u001b[0m \u001b[0;31m# we use the first 100 training examples as our background dataset to integrate over\u001b[0m\u001b[0;34m\u001b[0m\u001b[0;34m\u001b[0m\u001b[0;34m\u001b[0m\u001b[0m\n\u001b[0;32m----> 4\u001b[0;31m \u001b[0mK\u001b[0m\u001b[0;34m.\u001b[0m\u001b[0mbackend\u001b[0m\u001b[0;34m.\u001b[0m\u001b[0mget_session\u001b[0m\u001b[0;34m(\u001b[0m\u001b[0;34m)\u001b[0m\u001b[0;34m.\u001b[0m\u001b[0mrun\u001b[0m\u001b[0;34m(\u001b[0m\u001b[0mtf\u001b[0m\u001b[0;34m.\u001b[0m\u001b[0mglobal_variables_initializer\u001b[0m\u001b[0;34m(\u001b[0m\u001b[0;34m)\u001b[0m\u001b[0;34m)\u001b[0m\u001b[0;34m\u001b[0m\u001b[0;34m\u001b[0m\u001b[0m\n\u001b[0m\u001b[1;32m      5\u001b[0m \u001b[0;34m\u001b[0m\u001b[0m\n\u001b[1;32m      6\u001b[0m \u001b[0;34m\u001b[0m\u001b[0m\n",
      "\u001b[0;31mAttributeError\u001b[0m: 'function' object has no attribute 'get_session'"
     ]
    }
   ],
   "source": [
    "# import shap\n",
    "\n",
    "# # we use the first 100 training examples as our background dataset to integrate over\n",
    "# K.backend.get_session().run(tf.global_variables_initializer())\n",
    "\n",
    "\n",
    "# explainer = shap.DeepExplainer(model, X_train_df)\n",
    "\n",
    "# # explain the first 10 predictions\n",
    "# # explaining each prediction requires 2 * background dataset size runs\n",
    "# shap_values = explainer.shap_values(X_test[:10])"
   ]
  }
 ],
 "metadata": {
  "kernelspec": {
   "display_name": "Python 3",
   "language": "python",
   "name": "python3"
  },
  "language_info": {
   "codemirror_mode": {
    "name": "ipython",
    "version": 3
   },
   "file_extension": ".py",
   "mimetype": "text/x-python",
   "name": "python",
   "nbconvert_exporter": "python",
   "pygments_lexer": "ipython3",
   "version": "3.7.5"
  }
 },
 "nbformat": 4,
 "nbformat_minor": 2
}
